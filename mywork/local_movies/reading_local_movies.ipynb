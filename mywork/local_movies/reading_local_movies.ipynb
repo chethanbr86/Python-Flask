{
 "cells": [
  {
   "cell_type": "code",
   "execution_count": 1,
   "metadata": {},
   "outputs": [],
   "source": [
    "import glob\n",
    "import os\n",
    "import pandas as pd\n",
    "import numpy as np\n",
    "from pathlib import Path\n",
    "from collections import namedtuple\n",
    "# from moviepy.editor import VideoFileClip\n",
    "pd.options.display.float_format = '{:,.2f}'.format"
   ]
  },
  {
   "cell_type": "markdown",
   "metadata": {},
   "source": [
    "Method 1:"
   ]
  },
  {
   "cell_type": "code",
   "execution_count": 3,
   "metadata": {},
   "outputs": [
    {
     "name": "stdout",
     "output_type": "stream",
     "text": [
      "611\n",
      "116\n",
      "348\n",
      "                                                     0\n",
      "0    D:\\chethan\\movies\\English\\Animated Movies\\Ice ...\n",
      "1    D:\\chethan\\movies\\English\\Animated Movies\\Ice ...\n",
      "2    D:\\chethan\\movies\\English\\Animated Movies\\Kung...\n",
      "3    D:\\chethan\\movies\\English\\Animated Movies\\Kung...\n",
      "4    D:\\chethan\\movies\\English\\Animated Movies\\The ...\n",
      "..                                                 ...\n",
      "606  D:\\chethan\\movies\\English\\Movies\\White House D...\n",
      "607  D:\\chethan\\movies\\English\\Movies\\Wild Card (20...\n",
      "608  D:\\chethan\\movies\\English\\Movies\\Winning (1969...\n",
      "609  D:\\chethan\\movies\\English\\Movies\\Yes Man (2008...\n",
      "610  D:\\chethan\\movies\\English\\Movies\\You, Me and D...\n",
      "\n",
      "[611 rows x 1 columns]\n"
     ]
    }
   ],
   "source": [
    "files_avi = glob.glob('D:\\\\chethan\\\\movies\\\\English\\\\**\\\\*.avi', recursive=True)\n",
    "files_mkv = glob.glob('D:\\\\chethan\\\\movies\\\\English\\\\**\\\\*.mkv', recursive=True)\n",
    "files_mp4 = glob.glob('D:\\\\chethan\\\\movies\\\\English\\\\**\\\\*.mp4', recursive=True)\n",
    "\n",
    "avi = []\n",
    "mkv = []\n",
    "mp4 = []\n",
    "\n",
    "for i in files_avi:\n",
    "    avi.append(i)\n",
    "for j in files_mkv:\n",
    "    mkv.append(j)\n",
    "for k in files_mp4:\n",
    "    mp4.append(k)\n",
    "print(np.count_nonzero(avi))\n",
    "print(np.count_nonzero(mkv))\n",
    "print(np.count_nonzero(mp4))\n",
    "print(pd.DataFrame(avi))"
   ]
  },
  {
   "cell_type": "markdown",
   "metadata": {},
   "source": [
    "Method 2:"
   ]
  },
  {
   "cell_type": "code",
   "execution_count": null,
   "metadata": {},
   "outputs": [],
   "source": [
    "path = 'D:\\chethan\\movies\\English'\n",
    "def find_the_files(path):\n",
    "    files = os.listdir(path)\n",
    "    for item in files:\n",
    "        if os.path.isdir(os.path.join(path,item)):\n",
    "            find_the_files(os.path.join(path,item))\n",
    "        else:\n",
    "            if item.endswith('.mkv') or item.endswith('.avi') or item.endswith('.mp4'):\n",
    "                print(os.path.join(path,item))\n",
    "find_the_files(path)"
   ]
  },
  {
   "cell_type": "markdown",
   "metadata": {},
   "source": [
    "Method 3:"
   ]
  },
  {
   "cell_type": "code",
   "execution_count": null,
   "metadata": {},
   "outputs": [],
   "source": [
    "#Slowest method in terms of time and memory consumption\n",
    "path = 'D:\\chethan\\movies\\English'\n",
    "files = []\n",
    "for root, dirs, files in os.walk(path):\n",
    "    for item in files:\n",
    "        if item.endswith('.mkv') or item.endswith('.avi') or item.endswith('.mp4'):\n",
    "            # print(os.path.join(root,item))\n",
    "            files.append(item)\n",
    "movies = pd.DataFrame(files)\n",
    "movies"
   ]
  },
  {
   "cell_type": "markdown",
   "metadata": {},
   "source": [
    "Method 4: works perfectly"
   ]
  },
  {
   "cell_type": "code",
   "execution_count": 2,
   "metadata": {},
   "outputs": [],
   "source": [
    "# To get length of movie\n",
    "# def with_moviepy(filename):\n",
    "#     clip = VideoFileClip(filename)\n",
    "#     duration       = clip.duration\n",
    "#     fps            = clip.fps\n",
    "#     width, height  = clip.size\n",
    "#     return duration, fps, (width, height)"
   ]
  },
  {
   "cell_type": "code",
   "execution_count": 2,
   "metadata": {},
   "outputs": [
    {
     "name": "stdout",
     "output_type": "stream",
     "text": [
      "3228\n"
     ]
    }
   ],
   "source": [
    "path = 'D:\\chethan\\movies\\English'\n",
    "File = namedtuple('File','name path size') #modified_date\n",
    "files = []\n",
    "p = Path(path)\n",
    "\n",
    "for item in p.glob('**/*'):\n",
    "    # print(item)\n",
    "    if item.suffix in ['.avi','.mkv','.mp4']:\n",
    "        # print(item.suffix)\n",
    "        name = item.name\n",
    "        # print(name)\n",
    "        path = Path.resolve(item).parent\n",
    "        # print(path)\n",
    "        size = item.stat().st_size/(1024*1024) #in mb's\n",
    "        # modified = datetime.fromtimestamp(item.stat().st_mtime)  #if modified in folder date is required, use this\n",
    "        # lenght_movie = with_moviepy(path/name) #only length is not working which we could anyway get from imdb\n",
    "\n",
    "        files.append(File(name, path, size))\n",
    "\n",
    "print(np.count_nonzero(files))\n",
    "# print(files)"
   ]
  },
  {
   "cell_type": "code",
   "execution_count": 3,
   "metadata": {},
   "outputs": [
    {
     "data": {
      "text/html": [
       "<div>\n",
       "<style scoped>\n",
       "    .dataframe tbody tr th:only-of-type {\n",
       "        vertical-align: middle;\n",
       "    }\n",
       "\n",
       "    .dataframe tbody tr th {\n",
       "        vertical-align: top;\n",
       "    }\n",
       "\n",
       "    .dataframe thead th {\n",
       "        text-align: right;\n",
       "    }\n",
       "</style>\n",
       "<table border=\"1\" class=\"dataframe\">\n",
       "  <thead>\n",
       "    <tr style=\"text-align: right;\">\n",
       "      <th></th>\n",
       "      <th>name</th>\n",
       "      <th>path</th>\n",
       "      <th>size</th>\n",
       "    </tr>\n",
       "  </thead>\n",
       "  <tbody>\n",
       "    <tr>\n",
       "      <th>0</th>\n",
       "      <td>Cars (2006).mp4</td>\n",
       "      <td>D:\\chethan\\movies\\English\\Animated Movies\\Cars...</td>\n",
       "      <td>1,818.18</td>\n",
       "    </tr>\n",
       "    <tr>\n",
       "      <th>1</th>\n",
       "      <td>Cars 2 (2011).mp4</td>\n",
       "      <td>D:\\chethan\\movies\\English\\Animated Movies\\Cars...</td>\n",
       "      <td>1,646.06</td>\n",
       "    </tr>\n",
       "    <tr>\n",
       "      <th>2</th>\n",
       "      <td>Despicable Me (2010).mp4</td>\n",
       "      <td>D:\\chethan\\movies\\English\\Animated Movies\\Desp...</td>\n",
       "      <td>756.52</td>\n",
       "    </tr>\n",
       "    <tr>\n",
       "      <th>3</th>\n",
       "      <td>Despicable Me 2 (2013).mp4</td>\n",
       "      <td>D:\\chethan\\movies\\English\\Animated Movies\\Desp...</td>\n",
       "      <td>758.55</td>\n",
       "    </tr>\n",
       "    <tr>\n",
       "      <th>4</th>\n",
       "      <td>Finding Nemo (2003).mp4</td>\n",
       "      <td>D:\\chethan\\movies\\English\\Animated Movies\\Find...</td>\n",
       "      <td>650.73</td>\n",
       "    </tr>\n",
       "    <tr>\n",
       "      <th>...</th>\n",
       "      <td>...</td>\n",
       "      <td>...</td>\n",
       "      <td>...</td>\n",
       "    </tr>\n",
       "    <tr>\n",
       "      <th>1071</th>\n",
       "      <td>Wrath of the Titans (2012).mkv</td>\n",
       "      <td>D:\\chethan\\movies\\English\\Movies\\Wrath of the ...</td>\n",
       "      <td>699.45</td>\n",
       "    </tr>\n",
       "    <tr>\n",
       "      <th>1072</th>\n",
       "      <td>Yes Man (2008).avi</td>\n",
       "      <td>D:\\chethan\\movies\\English\\Movies\\Yes Man (2008)</td>\n",
       "      <td>700.02</td>\n",
       "    </tr>\n",
       "    <tr>\n",
       "      <th>1073</th>\n",
       "      <td>You, Me and Dupree (2006).avi</td>\n",
       "      <td>D:\\chethan\\movies\\English\\Movies\\You, Me and D...</td>\n",
       "      <td>701.82</td>\n",
       "    </tr>\n",
       "    <tr>\n",
       "      <th>1074</th>\n",
       "      <td>Zodiac (2007).mkv</td>\n",
       "      <td>D:\\chethan\\movies\\English\\Movies\\Zodiac (2007)</td>\n",
       "      <td>694.17</td>\n",
       "    </tr>\n",
       "    <tr>\n",
       "      <th>1075</th>\n",
       "      <td>[REC] (2007).mkv</td>\n",
       "      <td>D:\\chethan\\movies\\English\\Movies\\[REC] (2007)</td>\n",
       "      <td>670.90</td>\n",
       "    </tr>\n",
       "  </tbody>\n",
       "</table>\n",
       "<p>1076 rows × 3 columns</p>\n",
       "</div>"
      ],
      "text/plain": [
       "                                name  \\\n",
       "0                    Cars (2006).mp4   \n",
       "1                  Cars 2 (2011).mp4   \n",
       "2           Despicable Me (2010).mp4   \n",
       "3         Despicable Me 2 (2013).mp4   \n",
       "4            Finding Nemo (2003).mp4   \n",
       "...                              ...   \n",
       "1071  Wrath of the Titans (2012).mkv   \n",
       "1072              Yes Man (2008).avi   \n",
       "1073   You, Me and Dupree (2006).avi   \n",
       "1074               Zodiac (2007).mkv   \n",
       "1075                [REC] (2007).mkv   \n",
       "\n",
       "                                                   path     size  \n",
       "0     D:\\chethan\\movies\\English\\Animated Movies\\Cars... 1,818.18  \n",
       "1     D:\\chethan\\movies\\English\\Animated Movies\\Cars... 1,646.06  \n",
       "2     D:\\chethan\\movies\\English\\Animated Movies\\Desp...   756.52  \n",
       "3     D:\\chethan\\movies\\English\\Animated Movies\\Desp...   758.55  \n",
       "4     D:\\chethan\\movies\\English\\Animated Movies\\Find...   650.73  \n",
       "...                                                 ...      ...  \n",
       "1071  D:\\chethan\\movies\\English\\Movies\\Wrath of the ...   699.45  \n",
       "1072    D:\\chethan\\movies\\English\\Movies\\Yes Man (2008)   700.02  \n",
       "1073  D:\\chethan\\movies\\English\\Movies\\You, Me and D...   701.82  \n",
       "1074     D:\\chethan\\movies\\English\\Movies\\Zodiac (2007)   694.17  \n",
       "1075      D:\\chethan\\movies\\English\\Movies\\[REC] (2007)   670.90  \n",
       "\n",
       "[1076 rows x 3 columns]"
      ]
     },
     "execution_count": 3,
     "metadata": {},
     "output_type": "execute_result"
    }
   ],
   "source": [
    "df = pd.DataFrame(files)\n",
    "df"
   ]
  },
  {
   "cell_type": "code",
   "execution_count": 4,
   "metadata": {},
   "outputs": [],
   "source": [
    "df.to_csv('movies_in_folder.csv', index=False)"
   ]
  }
 ],
 "metadata": {
  "kernelspec": {
   "display_name": "Python 3.9.12 ('mldlenv')",
   "language": "python",
   "name": "python3"
  },
  "language_info": {
   "codemirror_mode": {
    "name": "ipython",
    "version": 3
   },
   "file_extension": ".py",
   "mimetype": "text/x-python",
   "name": "python",
   "nbconvert_exporter": "python",
   "pygments_lexer": "ipython3",
   "version": "3.9.12"
  },
  "orig_nbformat": 4,
  "vscode": {
   "interpreter": {
    "hash": "024b0bb871269f14bb7bb96205c2816c80cabf3d783b408a6c0450a6b2201614"
   }
  }
 },
 "nbformat": 4,
 "nbformat_minor": 2
}
