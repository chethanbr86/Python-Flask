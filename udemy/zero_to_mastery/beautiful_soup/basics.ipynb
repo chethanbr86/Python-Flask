{
 "cells": [
  {
   "cell_type": "code",
   "execution_count": 1,
   "metadata": {},
   "outputs": [],
   "source": [
    "import requests\n",
    "from bs4 import BeautifulSoup"
   ]
  },
  {
   "cell_type": "code",
   "execution_count": 2,
   "metadata": {},
   "outputs": [],
   "source": [
    "# res = requests.get('https://www.imdb.com/user/ur24403700/watchlist?ref_=nv_usr_wl_all_0')\n",
    "# res = requests.get('https://www.imdb.com/user/ur24403700/watchlist')\n",
    "res = requests.get('https://news.ycombinator.com/')\n",
    "soup = BeautifulSoup(res.text, 'html.parser')\n",
    "# print(soup.body.contents)\n",
    "# print(soup.find_all('div'))\n",
    "# print(soup.title) #without find or findall, you will get first title tag\n",
    "# print(soup.find('title')) #same as above\n",
    "# print(soup.find_all('title'))\n",
    "# print(soup.find('a'))\n",
    "# print(soup.find_all('a'))\n",
    "# print(soup.findAll('h3', class_ = 'lister-item-header'))  #This is myway - not working\n",
    "# print(soup.find(id='page-1')) #I am not getting anything but None"
   ]
  },
  {
   "cell_type": "markdown",
   "metadata": {},
   "source": [
    "other methods"
   ]
  },
  {
   "cell_type": "code",
   "execution_count": 30,
   "metadata": {},
   "outputs": [],
   "source": [
    "#myway, doesn't work yet as imdb watchlist gives problem - https://stackoverflow.com/questions/43571257/problems-retrieving-information-from-imdb\n",
    "# rows = soup.find_all('h3', class_='lister-item-header')\n",
    "# for row in rows:\n",
    "#     print(row.a.text)"
   ]
  },
  {
   "cell_type": "code",
   "execution_count": 5,
   "metadata": {},
   "outputs": [
    {
     "data": {
      "text/plain": [
       "[]"
      ]
     },
     "execution_count": 5,
     "metadata": {},
     "output_type": "execute_result"
    }
   ],
   "source": [
    "#not working #https://github.com/Reljod/Python-Data-Scraping-IMDb-Movie-site-using-BeautifulSoup-Series-1-\n",
    "\n",
    "# content = soup.find(id='center-1-react')\n",
    "# movieFrame = content.find_all(\"div\", class_=\"lister-item featureFilm\")\n",
    "# movieFrame"
   ]
  },
  {
   "cell_type": "markdown",
   "metadata": {},
   "source": [
    "continuing with udemy"
   ]
  },
  {
   "cell_type": "code",
   "execution_count": 3,
   "metadata": {},
   "outputs": [],
   "source": [
    "# . = class, # = id\n",
    "# print(soup.select('.lister-item featureFilm'))  #getting empty list in imdb \n",
    "links = soup.select('.titlelink')  # but works for hackernews\n",
    "# votes = soup.select('.score')   \n",
    "# print(votes[0])\n",
    "# print(votes[0].get('id'))"
   ]
  },
  {
   "cell_type": "code",
   "execution_count": 4,
   "metadata": {},
   "outputs": [
    {
     "data": {
      "text/plain": [
       "[{'title': 'Goat Rental – Hire Goats',\n",
       "  'votes': 41,\n",
       "  'link': 'https://hiregoats.com/'},\n",
       " {'title': \"Rob Pike's simple C regex matcher in Go\",\n",
       "  'votes': 18,\n",
       "  'link': 'https://benhoyt.com/writings/rob-pike-regex/'},\n",
       " {'title': 'A 17-year-old designed a novel synchronous reluctance motor',\n",
       "  'votes': 621,\n",
       "  'link': 'https://www.smithsonianmag.com/innovation/this-17-year-old-designed-a-motor-that-could-potentially-transform-the-electric-car-industry-180980550/'},\n",
       " {'title': 'Switcher (2004)',\n",
       "  'votes': 104,\n",
       "  'link': 'https://www.folklore.org/StoryView.py?project=Macintosh&story=Switcher.txt'},\n",
       " {'title': 'Nanostructured Fibers Can Impersonate Human Muscles',\n",
       "  'votes': 19,\n",
       "  'link': 'https://www.ae.utexas.edu/news/nanostructured-fibers-can-impersonate-human-muscles'},\n",
       " {'title': 'Is this the end of social networking?',\n",
       "  'votes': 323,\n",
       "  'link': 'https://reb00ted.org/tech/20220727-end-of-social-networking/'},\n",
       " {'title': 'Scott Meyers: Advice to Prospective Book Authors (2003)',\n",
       "  'votes': 23,\n",
       "  'link': 'https://www.aristeia.com/authorAdvice.html'},\n",
       " {'title': 'The Art of Giving a Shit',\n",
       "  'votes': 14,\n",
       "  'link': 'https://ghuntley.com/give-a-shit/'},\n",
       " {'title': 'System.css: A design system for building retro Apple interfaces',\n",
       "  'votes': 168,\n",
       "  'link': 'https://sakofchit.github.io/system.css/'},\n",
       " {'title': 'Show HN: Markdown as Web Page/Site',\n",
       "  'votes': 4,\n",
       "  'link': 'https://github.com/casualwriter/casual-markdown-page'},\n",
       " {'title': 'From Oscilloscope to Wireshark: A UDP Story',\n",
       "  'votes': 223,\n",
       "  'link': 'https://www.mattkeeter.com/blog/2022-08-11-udp/'},\n",
       " {'title': 'Dotfiles being hidden is a UNIXv2 mistake (2012)',\n",
       "  'votes': 280,\n",
       "  'link': 'https://web.archive.org/web/20180827160401/https://plus.google.com/+RobPikeTheHuman/posts/R58WgWwN9jp'},\n",
       " {'title': 'Ethereum Goerli testnet merge goes live before move to proof-of-stake',\n",
       "  'votes': 115,\n",
       "  'link': 'https://www.cnbc.com/2022/08/10/ethereum-goerli-testnet-merge-goes-live-before-move-to-proof-of-stake.html'},\n",
       " {'title': \"Xbox has accused Sony of paying Game Pass 'block fees' to developers\",\n",
       "  'votes': 126,\n",
       "  'link': 'https://www.videogameschronicle.com/news/xbox-has-accused-sony-of-paying-developers-game-pass-block-fees/'},\n",
       " {'title': 'Research shows circadian clock influences metabolism, cell and tumor growth',\n",
       "  'votes': 109,\n",
       "  'link': 'https://phys.org/news/2022-08-reveals-circadian-clock-cell-growth.html'},\n",
       " {'title': 'Curio – Notebook application for note-taking and research',\n",
       "  'votes': 37,\n",
       "  'link': 'https://www.zengobi.com/curio/'},\n",
       " {'title': 'My take on how DuckDuckGo can outperform Google',\n",
       "  'votes': 55,\n",
       "  'link': 'https://daniloedu.medium.com/my-take-on-how-duckduckgo-can-outperform-google-e52191e49558'},\n",
       " {'title': 'GM makes $1,500 subscription mandatory on GMC, Buick, Cadillac Models',\n",
       "  'votes': 164,\n",
       "  'link': 'https://www.thedrive.com/news/gm-makes-1500-onstar-subscription-mandatory-on-gmc-buick-cadillac-models'},\n",
       " {'title': 'Spent $15 in DALL·E 2 credits creating this AI image',\n",
       "  'votes': 359,\n",
       "  'link': 'https://pub.towardsai.net/i-spent-15-in-dall-e-2-credits-creating-this-ai-image-and-heres-what-i-learned-52f352912025'},\n",
       " {'title': 'Why thinking hard makes us feel tired',\n",
       "  'votes': 224,\n",
       "  'link': 'https://www.nature.com/articles/d41586-022-02161-5'},\n",
       " {'title': 'A model for journalistic copypasta',\n",
       "  'votes': 61,\n",
       "  'link': 'https://dynomight.net/copypasta/'},\n",
       " {'title': 'Launch HN: AccessOwl (YC S22) – Automating SaaS Provisioning and Permissioning',\n",
       "  'votes': 83,\n",
       "  'link': 'item?id=32422871'},\n",
       " {'title': 'So you have decided to start a free software consultancy',\n",
       "  'votes': 100,\n",
       "  'link': 'https://ariadne.space/2022/08/11/so-youve-decided-to-start-a-free-software-consultancy.../'},\n",
       " {'title': 'Byte Magazine Special Issue: Smalltalk (1984)',\n",
       "  'votes': 109,\n",
       "  'link': 'https://archive.org/details/byte-magazine-1981-08'},\n",
       " {'title': 'Open to a fault: On the passive compromise of TLS keys via transient errors [pdf]',\n",
       "  'votes': 40,\n",
       "  'link': 'https://www.usenix.org/system/files/sec22-sullivan.pdf'},\n",
       " {'title': 'Build your own EV charging solution',\n",
       "  'votes': 31,\n",
       "  'link': 'https://www.chargelab.co/developer-program'},\n",
       " {'title': 'Building certified concurrent OS kernels',\n",
       "  'votes': 39,\n",
       "  'link': 'https://dl.acm.org/doi/abs/10.1145/3356903'},\n",
       " {'title': 'Redis explained',\n",
       "  'votes': 373,\n",
       "  'link': 'https://architecturenotes.co/redis/'},\n",
       " {'title': 'PGPP (Pretty Good Phone Privacy) Beta Launch',\n",
       "  'votes': 90,\n",
       "  'link': 'https://invisv.com/articles/pretty-good-phone-privacy.html'}]"
      ]
     },
     "execution_count": 4,
     "metadata": {},
     "output_type": "execute_result"
    }
   ],
   "source": [
    "#This particular cell requires repeated watching of udemy and try following same for imdb\n",
    "subtext = soup.select('.subtext') #instead of picking votes or score, we are picking subtext which includes votes\n",
    "def create_custom_nm(links, subtext):\n",
    "    hn = []\n",
    "    for idx, item in enumerate(links):\n",
    "        title = links[idx].getText()\n",
    "        href = links[idx].get('href', None)\n",
    "        vote = subtext[idx].select('.score') #since every subtext containts votes and other things, we are using subtext instead of score\n",
    "        if len(vote): #This means, within subtext, if vote exists then below code will run only for news with votes\n",
    "            points = int(vote[0].getText().replace(' points','')) #grabbing score class is creating problem and hence we need to grab subtext, we gve vote[0] because subtext contains many things and we are just grabbing votes which is 0th index\n",
    "            hn.append({'title':title, 'votes': points, 'link':href}) \n",
    "    return hn\n",
    "\n",
    "create_custom_nm(links, subtext)"
   ]
  }
 ],
 "metadata": {
  "kernelspec": {
   "display_name": "Python 3.9.12 ('mldlenv')",
   "language": "python",
   "name": "python3"
  },
  "language_info": {
   "codemirror_mode": {
    "name": "ipython",
    "version": 3
   },
   "file_extension": ".py",
   "mimetype": "text/x-python",
   "name": "python",
   "nbconvert_exporter": "python",
   "pygments_lexer": "ipython3",
   "version": "3.9.12"
  },
  "orig_nbformat": 4,
  "vscode": {
   "interpreter": {
    "hash": "024b0bb871269f14bb7bb96205c2816c80cabf3d783b408a6c0450a6b2201614"
   }
  }
 },
 "nbformat": 4,
 "nbformat_minor": 2
}
