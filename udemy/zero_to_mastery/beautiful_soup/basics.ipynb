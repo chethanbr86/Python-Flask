{
 "cells": [
  {
   "cell_type": "markdown",
   "metadata": {},
   "source": [
    "Always first check for api if not then use beautiful soup. Scrapy is a framework and is good too."
   ]
  },
  {
   "cell_type": "code",
   "execution_count": 1,
   "metadata": {},
   "outputs": [],
   "source": [
    "import requests\n",
    "from bs4 import BeautifulSoup\n",
    "import pprint"
   ]
  },
  {
   "cell_type": "code",
   "execution_count": 2,
   "metadata": {},
   "outputs": [],
   "source": [
    "# res = requests.get('https://www.imdb.com/user/ur24403700/watchlist?ref_=nv_usr_wl_all_0')\n",
    "# res = requests.get('https://www.imdb.com/user/ur24403700/watchlist')\n",
    "res = requests.get('https://news.ycombinator.com/')\n",
    "#for more than one page\n",
    "# res2 \n",
    "soup = BeautifulSoup(res.text, 'html.parser')\n",
    "# print(soup.body.contents)\n",
    "# print(soup.find_all('div'))\n",
    "# print(soup.title) #without find or findall, you will get first title tag\n",
    "# print(soup.find('title')) #same as above\n",
    "# print(soup.find_all('title'))\n",
    "# print(soup.find('a'))\n",
    "# print(soup.find_all('a'))\n",
    "# print(soup.findAll('h3', class_ = 'lister-item-header'))  #This is myway - not working\n",
    "# print(soup.find(id='page-1')) #I am not getting anything but None"
   ]
  },
  {
   "cell_type": "markdown",
   "metadata": {},
   "source": [
    "other methods"
   ]
  },
  {
   "cell_type": "code",
   "execution_count": 3,
   "metadata": {},
   "outputs": [],
   "source": [
    "#myway, doesn't work yet as imdb watchlist gives problem - https://stackoverflow.com/questions/43571257/problems-retrieving-information-from-imdb\n",
    "# rows = soup.find_all('h3', class_='lister-item-header')\n",
    "# for row in rows:\n",
    "#     print(row.a.text)"
   ]
  },
  {
   "cell_type": "code",
   "execution_count": 4,
   "metadata": {},
   "outputs": [],
   "source": [
    "#not working #https://github.com/Reljod/Python-Data-Scraping-IMDb-Movie-site-using-BeautifulSoup-Series-1-\n",
    "\n",
    "# content = soup.find(id='center-1-react')\n",
    "# movieFrame = content.find_all(\"div\", class_=\"lister-item featureFilm\")\n",
    "# movieFrame"
   ]
  },
  {
   "cell_type": "markdown",
   "metadata": {},
   "source": [
    "continuing with udemy"
   ]
  },
  {
   "cell_type": "code",
   "execution_count": 5,
   "metadata": {},
   "outputs": [],
   "source": [
    "# . = class, # = id\n",
    "# print(soup.select('.lister-item featureFilm'))  #getting empty list in imdb \n",
    "links = soup.select('.titlelink')  # but works for hackernews, even though there is a class called title(parent), we are grabbing titlelink(child class)\n",
    "subtext = soup.select('.subtext') #instead of picking votes or score, we are picking subtext which includes votes\n",
    "# votes = soup.select('.score')   \n",
    "# print(votes[0])\n",
    "# print(votes[0].get('id'))\n",
    "# links"
   ]
  },
  {
   "cell_type": "markdown",
   "metadata": {},
   "source": [
    "subtext is the parent class and votes(score) is the child class. when sometimes votes are null we cannot pick that since it throws error. Hence we picked subtext and then selected vote."
   ]
  },
  {
   "cell_type": "code",
   "execution_count": 9,
   "metadata": {},
   "outputs": [
    {
     "name": "stdout",
     "output_type": "stream",
     "text": [
      "[{'link': 'https://www.smithsonianmag.com/innovation/this-17-year-old-designed-a-motor-that-could-potentially-transform-the-electric-car-industry-180980550/',\n",
      "  'title': 'A 17-year-old designed a novel synchronous reluctance motor',\n",
      "  'votes': 624},\n",
      " {'link': 'https://architecturenotes.co/redis/',\n",
      "  'title': 'Redis explained',\n",
      "  'votes': 374},\n",
      " {'link': 'https://pub.towardsai.net/i-spent-15-in-dall-e-2-credits-creating-this-ai-image-and-heres-what-i-learned-52f352912025',\n",
      "  'title': 'Spent $15 in DALL·E 2 credits creating this AI image',\n",
      "  'votes': 361},\n",
      " {'link': 'https://reb00ted.org/tech/20220727-end-of-social-networking/',\n",
      "  'title': 'Is this the end of social networking?',\n",
      "  'votes': 325},\n",
      " {'link': 'https://web.archive.org/web/20180827160401/https://plus.google.com/+RobPikeTheHuman/posts/R58WgWwN9jp',\n",
      "  'title': 'Dotfiles being hidden is a UNIXv2 mistake (2012)',\n",
      "  'votes': 280},\n",
      " {'link': 'https://www.mattkeeter.com/blog/2022-08-11-udp/',\n",
      "  'title': 'From Oscilloscope to Wireshark: A UDP Story',\n",
      "  'votes': 226},\n",
      " {'link': 'https://www.nature.com/articles/d41586-022-02161-5',\n",
      "  'title': 'Why thinking hard makes us feel tired',\n",
      "  'votes': 224},\n",
      " {'link': 'https://sakofchit.github.io/system.css/',\n",
      "  'title': 'System.css: A design system for building retro Apple interfaces',\n",
      "  'votes': 169},\n",
      " {'link': 'https://www.thedrive.com/news/gm-makes-1500-onstar-subscription-mandatory-on-gmc-buick-cadillac-models',\n",
      "  'title': 'GM makes $1,500 subscription mandatory on GMC, Buick, Cadillac '\n",
      "           'Models',\n",
      "  'votes': 167},\n",
      " {'link': 'https://www.videogameschronicle.com/news/xbox-has-accused-sony-of-paying-developers-game-pass-block-fees/',\n",
      "  'title': \"Xbox has accused Sony of paying Game Pass 'block fees' to \"\n",
      "           'developers',\n",
      "  'votes': 126},\n",
      " {'link': 'https://www.cnbc.com/2022/08/10/ethereum-goerli-testnet-merge-goes-live-before-move-to-proof-of-stake.html',\n",
      "  'title': 'Ethereum Goerli testnet merge goes live before move to '\n",
      "           'proof-of-stake',\n",
      "  'votes': 116},\n",
      " {'link': 'https://archive.org/details/byte-magazine-1981-08',\n",
      "  'title': 'Byte Magazine Special Issue: Smalltalk (1984)',\n",
      "  'votes': 111},\n",
      " {'link': 'https://phys.org/news/2022-08-reveals-circadian-clock-cell-growth.html',\n",
      "  'title': 'Research shows circadian clock influences metabolism, cell and '\n",
      "           'tumor growth',\n",
      "  'votes': 110},\n",
      " {'link': 'https://www.folklore.org/StoryView.py?project=Macintosh&story=Switcher.txt',\n",
      "  'title': 'Switcher (2004)',\n",
      "  'votes': 107},\n",
      " {'link': 'https://ariadne.space/2022/08/11/so-youve-decided-to-start-a-free-software-consultancy.../',\n",
      "  'title': 'So you have decided to start a free software consultancy',\n",
      "  'votes': 100}]\n"
     ]
    }
   ],
   "source": [
    "#This particular cell requires repeated watching of udemy and try following same for imdb\n",
    "def sort_stories_by_votes():\n",
    "    # sorted(hn, key=lambda k: k['votes'])\n",
    "    pass\n",
    "\n",
    "def create_custom_nm(links, subtext):\n",
    "    hn = []\n",
    "    for idx, item in enumerate(links):  #if we do not enumerate, we cannot pick both links and subtext\n",
    "        title = links[idx].getText()\n",
    "        href = links[idx].get('href', None)\n",
    "        vote = subtext[idx].select('.score') #since every subtext containts votes and other things, we are using subtext instead of score\n",
    "        if len(vote): #This means, within subtext, if vote exists then below code will run only for news with votes\n",
    "            points = int(vote[0].getText().replace(' points','')) #grabbing score class is creating problem and hence we need to grab subtext, we gve vote[0] because subtext contains many things and we are just grabbing votes which is 0th index\n",
    "            #picking votes above 100\n",
    "            if points > 99:\n",
    "                hn.append({'title':title, 'votes': points, 'link':href}) \n",
    "    return sorted(hn, key=lambda k: k['votes'], reverse=True)\n",
    "    # return sort_stories_by_votes(hn)\n",
    "\n",
    "# create_custom_nm(links, subtext)\n",
    "pprint.pprint(create_custom_nm(links, subtext))"
   ]
  },
  {
   "cell_type": "code",
   "execution_count": null,
   "metadata": {},
   "outputs": [],
   "source": [
    "#if there are pages then how to scrape pagewise\n"
   ]
  },
  {
   "cell_type": "markdown",
   "metadata": {},
   "source": [
    "Trying for imdb"
   ]
  },
  {
   "cell_type": "code",
   "execution_count": null,
   "metadata": {},
   "outputs": [],
   "source": [
    "imdb = requests.get('https://www.imdb.com/user/ur24403700/watchlist?ref_=nv_usr_wl_all_0')\n",
    "soup = BeautifulSoup(imdb.text, 'html.parser')\n",
    "# Try following the hierarchy - first pick h3 class, if it fails, pick div then select h3 class like subtext and score above\n"
   ]
  }
 ],
 "metadata": {
  "kernelspec": {
   "display_name": "Python 3.9.12 ('mldlenv')",
   "language": "python",
   "name": "python3"
  },
  "language_info": {
   "codemirror_mode": {
    "name": "ipython",
    "version": 3
   },
   "file_extension": ".py",
   "mimetype": "text/x-python",
   "name": "python",
   "nbconvert_exporter": "python",
   "pygments_lexer": "ipython3",
   "version": "3.9.12"
  },
  "orig_nbformat": 4,
  "vscode": {
   "interpreter": {
    "hash": "024b0bb871269f14bb7bb96205c2816c80cabf3d783b408a6c0450a6b2201614"
   }
  }
 },
 "nbformat": 4,
 "nbformat_minor": 2
}
